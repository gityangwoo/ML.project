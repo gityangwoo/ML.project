{
 "cells": [
  {
   "attachments": {},
   "cell_type": "markdown",
   "metadata": {},
   "source": [
    "# 서울 지하철 승/하차 이용객 예측 시스템"
   ]
  },
  {
   "attachments": {},
   "cell_type": "markdown",
   "metadata": {},
   "source": [
    "- 데이터 불러오기"
   ]
  },
  {
   "cell_type": "code",
   "execution_count": 24,
   "metadata": {},
   "outputs": [],
   "source": [
    "import pandas as pd\n",
    "import numpy as np"
   ]
  },
  {
   "cell_type": "code",
   "execution_count": 25,
   "metadata": {},
   "outputs": [
    {
     "name": "stderr",
     "output_type": "stream",
     "text": [
      "C:\\Users\\Ssoony\\AppData\\Local\\Temp\\ipykernel_23792\\2229594466.py:1: DtypeWarning: Columns (4) have mixed types. Specify dtype option on import or set low_memory=False.\n",
      "  metro_df=pd.read_csv('../../data/metro_pd_new.csv', encoding='euc-kr', index_col=0)\n"
     ]
    }
   ],
   "source": [
    "metro_df=pd.read_csv('../../data/metro_pd_new.csv', encoding='euc-kr', index_col=0)"
   ]
  },
  {
   "cell_type": "code",
   "execution_count": 26,
   "metadata": {},
   "outputs": [
    {
     "data": {
      "text/html": [
       "<div>\n",
       "<style scoped>\n",
       "    .dataframe tbody tr th:only-of-type {\n",
       "        vertical-align: middle;\n",
       "    }\n",
       "\n",
       "    .dataframe tbody tr th {\n",
       "        vertical-align: top;\n",
       "    }\n",
       "\n",
       "    .dataframe thead th {\n",
       "        text-align: right;\n",
       "    }\n",
       "</style>\n",
       "<table border=\"1\" class=\"dataframe\">\n",
       "  <thead>\n",
       "    <tr style=\"text-align: right;\">\n",
       "      <th></th>\n",
       "      <th>수송일자</th>\n",
       "      <th>역명</th>\n",
       "      <th>호선</th>\n",
       "      <th>고유역번호(외부역코드)</th>\n",
       "      <th>승하차구분</th>\n",
       "      <th>weekend</th>\n",
       "      <th>time</th>\n",
       "      <th>passenger</th>\n",
       "    </tr>\n",
       "  </thead>\n",
       "  <tbody>\n",
       "    <tr>\n",
       "      <th>0</th>\n",
       "      <td>2022-01-01</td>\n",
       "      <td>서울역</td>\n",
       "      <td>1.0</td>\n",
       "      <td>150</td>\n",
       "      <td>승차</td>\n",
       "      <td>주말</td>\n",
       "      <td>5</td>\n",
       "      <td>120.0</td>\n",
       "    </tr>\n",
       "    <tr>\n",
       "      <th>1</th>\n",
       "      <td>2022-01-01</td>\n",
       "      <td>서울역</td>\n",
       "      <td>1.0</td>\n",
       "      <td>150</td>\n",
       "      <td>승차</td>\n",
       "      <td>주말</td>\n",
       "      <td>6</td>\n",
       "      <td>137.0</td>\n",
       "    </tr>\n",
       "    <tr>\n",
       "      <th>2</th>\n",
       "      <td>2022-01-01</td>\n",
       "      <td>서울역</td>\n",
       "      <td>1.0</td>\n",
       "      <td>150</td>\n",
       "      <td>승차</td>\n",
       "      <td>주말</td>\n",
       "      <td>7</td>\n",
       "      <td>211.0</td>\n",
       "    </tr>\n",
       "    <tr>\n",
       "      <th>3</th>\n",
       "      <td>2022-01-01</td>\n",
       "      <td>서울역</td>\n",
       "      <td>1.0</td>\n",
       "      <td>150</td>\n",
       "      <td>승차</td>\n",
       "      <td>주말</td>\n",
       "      <td>8</td>\n",
       "      <td>439.0</td>\n",
       "    </tr>\n",
       "    <tr>\n",
       "      <th>4</th>\n",
       "      <td>2022-01-01</td>\n",
       "      <td>서울역</td>\n",
       "      <td>1.0</td>\n",
       "      <td>150</td>\n",
       "      <td>승차</td>\n",
       "      <td>주말</td>\n",
       "      <td>9</td>\n",
       "      <td>592.0</td>\n",
       "    </tr>\n",
       "  </tbody>\n",
       "</table>\n",
       "</div>"
      ],
      "text/plain": [
       "         수송일자   역명   호선 고유역번호(외부역코드) 승하차구분 weekend  time  passenger\n",
       "0  2022-01-01  서울역  1.0          150    승차      주말     5      120.0\n",
       "1  2022-01-01  서울역  1.0          150    승차      주말     6      137.0\n",
       "2  2022-01-01  서울역  1.0          150    승차      주말     7      211.0\n",
       "3  2022-01-01  서울역  1.0          150    승차      주말     8      439.0\n",
       "4  2022-01-01  서울역  1.0          150    승차      주말     9      592.0"
      ]
     },
     "execution_count": 26,
     "metadata": {},
     "output_type": "execute_result"
    }
   ],
   "source": [
    "metro_df.head(5)"
   ]
  },
  {
   "attachments": {},
   "cell_type": "markdown",
   "metadata": {},
   "source": [
    "- 칼럼명 변경"
   ]
  },
  {
   "cell_type": "code",
   "execution_count": 27,
   "metadata": {},
   "outputs": [],
   "source": [
    "metro_df.rename(columns=({'수송일자':'date',\n",
    "                              '고유역번호(외부역코드)':'code',\n",
    "                              '역명':'station',\n",
    "                              '승하차구분':'in_out',\n",
    "                              '호선':'line'     \n",
    "                               }),inplace=True)"
   ]
  },
  {
   "cell_type": "code",
   "execution_count": 28,
   "metadata": {},
   "outputs": [
    {
     "data": {
      "text/html": [
       "<div>\n",
       "<style scoped>\n",
       "    .dataframe tbody tr th:only-of-type {\n",
       "        vertical-align: middle;\n",
       "    }\n",
       "\n",
       "    .dataframe tbody tr th {\n",
       "        vertical-align: top;\n",
       "    }\n",
       "\n",
       "    .dataframe thead th {\n",
       "        text-align: right;\n",
       "    }\n",
       "</style>\n",
       "<table border=\"1\" class=\"dataframe\">\n",
       "  <thead>\n",
       "    <tr style=\"text-align: right;\">\n",
       "      <th></th>\n",
       "      <th>date</th>\n",
       "      <th>station</th>\n",
       "      <th>line</th>\n",
       "      <th>code</th>\n",
       "      <th>in_out</th>\n",
       "      <th>weekend</th>\n",
       "      <th>time</th>\n",
       "      <th>passenger</th>\n",
       "    </tr>\n",
       "  </thead>\n",
       "  <tbody>\n",
       "    <tr>\n",
       "      <th>0</th>\n",
       "      <td>2022-01-01</td>\n",
       "      <td>서울역</td>\n",
       "      <td>1.0</td>\n",
       "      <td>150</td>\n",
       "      <td>승차</td>\n",
       "      <td>주말</td>\n",
       "      <td>5</td>\n",
       "      <td>120.0</td>\n",
       "    </tr>\n",
       "    <tr>\n",
       "      <th>1</th>\n",
       "      <td>2022-01-01</td>\n",
       "      <td>서울역</td>\n",
       "      <td>1.0</td>\n",
       "      <td>150</td>\n",
       "      <td>승차</td>\n",
       "      <td>주말</td>\n",
       "      <td>6</td>\n",
       "      <td>137.0</td>\n",
       "    </tr>\n",
       "    <tr>\n",
       "      <th>2</th>\n",
       "      <td>2022-01-01</td>\n",
       "      <td>서울역</td>\n",
       "      <td>1.0</td>\n",
       "      <td>150</td>\n",
       "      <td>승차</td>\n",
       "      <td>주말</td>\n",
       "      <td>7</td>\n",
       "      <td>211.0</td>\n",
       "    </tr>\n",
       "  </tbody>\n",
       "</table>\n",
       "</div>"
      ],
      "text/plain": [
       "         date station  line code in_out weekend  time  passenger\n",
       "0  2022-01-01     서울역   1.0  150     승차      주말     5      120.0\n",
       "1  2022-01-01     서울역   1.0  150     승차      주말     6      137.0\n",
       "2  2022-01-01     서울역   1.0  150     승차      주말     7      211.0"
      ]
     },
     "execution_count": 28,
     "metadata": {},
     "output_type": "execute_result"
    }
   ],
   "source": [
    "metro_df.head(3)"
   ]
  },
  {
   "attachments": {},
   "cell_type": "markdown",
   "metadata": {},
   "source": [
    "- 코드 딕셔너리 만들기"
   ]
  },
  {
   "cell_type": "code",
   "execution_count": 29,
   "metadata": {},
   "outputs": [
    {
     "name": "stderr",
     "output_type": "stream",
     "text": [
      "C:\\Users\\Ssoony\\AppData\\Local\\Temp\\ipykernel_23792\\221702897.py:2: SettingWithCopyWarning: \n",
      "A value is trying to be set on a copy of a slice from a DataFrame\n",
      "\n",
      "See the caveats in the documentation: https://pandas.pydata.org/pandas-docs/stable/user_guide/indexing.html#returning-a-view-versus-a-copy\n",
      "  code_df.drop_duplicates(inplace=True)\n"
     ]
    }
   ],
   "source": [
    "code_df=metro_df[['station','line','code']]\n",
    "code_df.drop_duplicates(inplace=True)"
   ]
  },
  {
   "cell_type": "code",
   "execution_count": 30,
   "metadata": {},
   "outputs": [],
   "source": [
    "code_list=code_df['code'].unique()\n",
    "code_list=list(code_list)"
   ]
  },
  {
   "cell_type": "code",
   "execution_count": 31,
   "metadata": {},
   "outputs": [],
   "source": [
    "code_dict={}"
   ]
  },
  {
   "cell_type": "code",
   "execution_count": 32,
   "metadata": {},
   "outputs": [],
   "source": [
    "for i in code_list:\n",
    "   code_dict[((code_df[code_df['code']==i]['station'].values[0]),(int(code_df[code_df['code']==i]['line'].values[0])))]=i"
   ]
  },
  {
   "cell_type": "code",
   "execution_count": 33,
   "metadata": {},
   "outputs": [
    {
     "data": {
      "text/plain": [
       "{('서울역', 1): '150',\n",
       " ('시청', 1): '151',\n",
       " ('종각', 1): '152',\n",
       " ('종로3가', 1): '153',\n",
       " ('종로5가', 1): '154',\n",
       " ('동대문', 1): '155',\n",
       " ('신설동', 1): '156',\n",
       " ('제기동', 1): '157',\n",
       " ('청량리(서울시립대입구)', 1): '158',\n",
       " ('동묘앞', 1): '159',\n",
       " ('시청', 2): '201',\n",
       " ('을지로입구', 2): '202',\n",
       " ('을지로3가', 2): '203',\n",
       " ('을지로4가', 2): '204',\n",
       " ('동대문역사문화공원(DDP)', 2): '205',\n",
       " ('신당', 2): '206',\n",
       " ('상왕십리', 2): '207',\n",
       " ('왕십리(성동구청)', 2): '208',\n",
       " ('한양대', 2): '209',\n",
       " ('뚝섬', 2): '210',\n",
       " ('성수', 2): '211',\n",
       " ('건대입구', 2): '212',\n",
       " ('구의(광진구청)', 2): '213',\n",
       " ('강변(동서울터미널)', 2): '214',\n",
       " ('잠실나루', 2): '215',\n",
       " ('잠실(송파구청)', 2): '216',\n",
       " ('잠실새내', 2): '217',\n",
       " ('종합운동장', 2): '218',\n",
       " ('삼성(무역센터)', 2): '219',\n",
       " ('선릉', 2): '220',\n",
       " ('역삼', 2): '221',\n",
       " ('강남', 2): '222',\n",
       " ('교대(법원.검찰청)', 2): '223',\n",
       " ('서초', 2): '224',\n",
       " ('방배', 2): '225',\n",
       " ('사당', 2): '226',\n",
       " ('낙성대(강감찬)', 2): '227',\n",
       " ('서울대입구(관악구청)', 2): '228',\n",
       " ('봉천', 2): '229',\n",
       " ('신림', 2): '230',\n",
       " ('신대방', 2): '231',\n",
       " ('구로디지털단지', 2): '232',\n",
       " ('대림(구로구청)', 2): '233',\n",
       " ('신도림', 2): '234',\n",
       " ('문래', 2): '235',\n",
       " ('영등포구청', 2): '236',\n",
       " ('당산', 2): '237',\n",
       " ('합정', 2): '238',\n",
       " ('홍대입구', 2): '239',\n",
       " ('신촌', 2): '240',\n",
       " ('이대', 2): '241',\n",
       " ('아현', 2): '242',\n",
       " ('충정로(경기대입구)', 2): '243',\n",
       " ('용답', 2): '244',\n",
       " ('신답', 2): '245',\n",
       " ('신설동', 2): '246',\n",
       " ('도림천', 2): '247',\n",
       " ('양천구청', 2): '248',\n",
       " ('신정네거리', 2): '249',\n",
       " ('용두(동대문구청)', 2): '250',\n",
       " ('지축', 3): '309',\n",
       " ('구파발', 3): '310',\n",
       " ('연신내', 3): '311',\n",
       " ('불광', 3): '312',\n",
       " ('녹번', 3): '313',\n",
       " ('홍제', 3): '314',\n",
       " ('무악재', 3): '315',\n",
       " ('독립문', 3): '316',\n",
       " ('경복궁(정부서울청사)', 3): '317',\n",
       " ('안국', 3): '318',\n",
       " ('종로3가', 3): '319',\n",
       " ('을지로3가', 3): '320',\n",
       " ('동대입구', 3): '322',\n",
       " ('약수', 3): '323',\n",
       " ('금호', 3): '324',\n",
       " ('옥수', 3): '325',\n",
       " ('압구정', 3): '326',\n",
       " ('신사', 3): '327',\n",
       " ('잠원', 3): '328',\n",
       " ('고속터미널', 3): '329',\n",
       " ('교대(법원.검찰청)', 3): '330',\n",
       " ('남부터미널(예술의전당)', 3): '331',\n",
       " ('양재(서초구청)', 3): '332',\n",
       " ('매봉', 3): '333',\n",
       " ('도곡', 3): '334',\n",
       " ('대치', 3): '335',\n",
       " ('학여울', 3): '336',\n",
       " ('대청', 3): '337',\n",
       " ('일원', 3): '338',\n",
       " ('수서', 3): '339',\n",
       " ('가락시장', 3): '340',\n",
       " ('경찰병원', 3): '341',\n",
       " ('오금', 3): '342',\n",
       " ('당고개', 4): '409',\n",
       " ('상계', 4): '410',\n",
       " ('노원', 4): '411',\n",
       " ('창동', 4): '412',\n",
       " ('쌍문', 4): '413',\n",
       " ('수유(강북구청)', 4): '414',\n",
       " ('미아(서울사이버대학)', 4): '415',\n",
       " ('미아사거리', 4): '416',\n",
       " ('길음', 4): '417',\n",
       " ('성신여대입구(돈암)', 4): '418',\n",
       " ('한성대입구(삼선교)', 4): '419',\n",
       " ('혜화', 4): '420',\n",
       " ('동대문', 4): '421',\n",
       " ('동대문역사문화공원(DDP)', 4): '422',\n",
       " ('충무로', 4): '423',\n",
       " ('명동', 4): '424',\n",
       " ('회현(남대문시장)', 4): '425',\n",
       " ('서울역', 4): '426',\n",
       " ('숙대입구(갈월)', 4): '427',\n",
       " ('삼각지', 4): '428',\n",
       " ('신용산', 4): '429',\n",
       " ('이촌(국립중앙박물관)', 4): '430',\n",
       " ('동작(현충원)', 4): '431',\n",
       " ('총신대입구(이수)', 4): '432',\n",
       " ('사당', 4): '433',\n",
       " ('남태령', 4): '434',\n",
       " ('방화', 5): '2511',\n",
       " ('개화산', 5): '2512',\n",
       " ('김포공항', 5): '2513',\n",
       " ('송정', 5): '2514',\n",
       " ('마곡', 5): '2515',\n",
       " ('발산', 5): '2516',\n",
       " ('우장산', 5): '2517',\n",
       " ('화곡', 5): '2518',\n",
       " ('까치산', 5): '2519',\n",
       " ('신정(은행정)', 5): '2520',\n",
       " ('목동', 5): '2521',\n",
       " ('오목교(목동운동장앞)', 5): '2522',\n",
       " ('양평', 5): '2523',\n",
       " ('영등포구청', 5): '2524',\n",
       " ('영등포시장', 5): '2525',\n",
       " ('신길', 5): '2526',\n",
       " ('여의도', 5): '2527',\n",
       " ('여의나루', 5): '2528',\n",
       " ('마포', 5): '2529',\n",
       " ('공덕', 5): '2530',\n",
       " ('애오개', 5): '2531',\n",
       " ('충정로(경기대입구)', 5): '2532',\n",
       " ('서대문', 5): '2533',\n",
       " ('광화문(세종문화회관)', 5): '2534',\n",
       " ('종로3가', 5): '2535',\n",
       " ('을지로4가', 5): '2536',\n",
       " ('동대문역사문화공원(DDP)', 5): '2537',\n",
       " ('청구', 5): '2538',\n",
       " ('신금호', 5): '2539',\n",
       " ('행당', 5): '2540',\n",
       " ('왕십리(성동구청)', 5): '2541',\n",
       " ('마장', 5): '2542',\n",
       " ('답십리', 5): '2543',\n",
       " ('장한평', 5): '2544',\n",
       " ('군자(능동)', 5): '2545',\n",
       " ('아차산(어린이대공원후문)', 5): '2546',\n",
       " ('광나루(장신대)', 5): '2547',\n",
       " ('천호(풍납토성)', 5): '2548',\n",
       " ('강동', 5): '2549',\n",
       " ('길동', 5): '2550',\n",
       " ('굽은다리(강동구민회관앞)', 5): '2551',\n",
       " ('명일', 5): '2552',\n",
       " ('고덕', 5): '2553',\n",
       " ('상일동', 5): '2554',\n",
       " ('둔촌동', 5): '2555',\n",
       " ('올림픽공원(한국체대)', 5): '2556',\n",
       " ('방이', 5): '2557',\n",
       " ('오금', 5): '2558',\n",
       " ('개롱', 5): '2559',\n",
       " ('거여', 5): '2560',\n",
       " ('마천', 5): '2561',\n",
       " ('강일', 5): '2562',\n",
       " ('미사', 5): '2563',\n",
       " ('하남풍산', 5): '2564',\n",
       " ('하남시청(덕풍·신장)', 5): '2565',\n",
       " ('하남검단산', 5): '2566',\n",
       " ('응암', 6): '2611',\n",
       " ('역촌', 6): '2612',\n",
       " ('불광', 6): '2613',\n",
       " ('독바위', 6): '2614',\n",
       " ('구산', 6): '2616',\n",
       " ('새절(신사)', 6): '2617',\n",
       " ('증산(명지대앞)', 6): '2618',\n",
       " ('디지털미디어시티', 6): '2619',\n",
       " ('월드컵경기장(성산)', 6): '2620',\n",
       " ('마포구청', 6): '2621',\n",
       " ('망원', 6): '2622',\n",
       " ('합정', 6): '2623',\n",
       " ('상수', 6): '2624',\n",
       " ('광흥창(서강)', 6): '2625',\n",
       " ('대흥(서강대앞)', 6): '2626',\n",
       " ('공덕', 6): '2627',\n",
       " ('효창공원앞', 6): '2628',\n",
       " ('삼각지', 6): '2629',\n",
       " ('녹사평(용산구청)', 6): '2630',\n",
       " ('이태원', 6): '2631',\n",
       " ('한강진', 6): '2632',\n",
       " ('버티고개', 6): '2633',\n",
       " ('약수', 6): '2634',\n",
       " ('청구', 6): '2635',\n",
       " ('신당', 6): '2636',\n",
       " ('동묘앞', 6): '2637',\n",
       " ('창신', 6): '2638',\n",
       " ('보문', 6): '2639',\n",
       " ('안암(고대병원앞)', 6): '2640',\n",
       " ('고려대(종암)', 6): '2641',\n",
       " ('월곡(동덕여대)', 6): '2642',\n",
       " ('상월곡(한국과학기술연구원)', 6): '2643',\n",
       " ('돌곶이', 6): '2644',\n",
       " ('석계', 6): '2645',\n",
       " ('태릉입구', 6): '2646',\n",
       " ('화랑대(서울여대입구)', 6): '2647',\n",
       " ('봉화산(서울의료원)', 6): '2648',\n",
       " ('장암', 7): '2711',\n",
       " ('도봉산', 7): '2712',\n",
       " ('수락산', 7): '2713',\n",
       " ('마들', 7): '2714',\n",
       " ('노원', 7): '2715',\n",
       " ('중계', 7): '2716',\n",
       " ('하계', 7): '2717',\n",
       " ('공릉(서울과학기술대)', 7): '2718',\n",
       " ('태릉입구', 7): '2719',\n",
       " ('먹골', 7): '2720',\n",
       " ('중화', 7): '2721',\n",
       " ('상봉(시외버스터미널)', 7): '2722',\n",
       " ('면목', 7): '2723',\n",
       " ('사가정', 7): '2724',\n",
       " ('용마산(용마폭포공원)', 7): '2725',\n",
       " ('중곡', 7): '2726',\n",
       " ('군자(능동)', 7): '2727',\n",
       " ('어린이대공원(세종대)', 7): '2728',\n",
       " ('건대입구', 7): '2729',\n",
       " ('뚝섬유원지', 7): '2730',\n",
       " ('청담', 7): '2731',\n",
       " ('강남구청', 7): '2732',\n",
       " ('학동', 7): '2733',\n",
       " ('논현', 7): '2734',\n",
       " ('반포', 7): '2735',\n",
       " ('고속터미널', 7): '2736',\n",
       " ('내방', 7): '2737',\n",
       " ('이수', 7): '2738',\n",
       " ('남성', 7): '2739',\n",
       " ('숭실대입구(살피재)', 7): '2740',\n",
       " ('상도', 7): '2741',\n",
       " ('장승배기', 7): '2742',\n",
       " ('신대방삼거리', 7): '2743',\n",
       " ('보라매', 7): '2744',\n",
       " ('신풍', 7): '2745',\n",
       " ('대림(구로구청)', 7): '2746',\n",
       " ('남구로', 7): '2747',\n",
       " ('가산디지털단지', 7): '2748',\n",
       " ('철산', 7): '2749',\n",
       " ('광명사거리', 7): ' ',\n",
       " ('천왕', 7): '2751',\n",
       " ('온수(성공회대입구)', 7): '2752',\n",
       " ('암사', 8): '2811',\n",
       " ('천호(풍납토성)', 8): '2812',\n",
       " ('강동구청', 8): '2813',\n",
       " ('몽촌토성(평화의문)', 8): '2814',\n",
       " ('잠실(송파구청)', 8): '2815',\n",
       " ('석촌', 8): '2816',\n",
       " ('송파', 8): '2817',\n",
       " ('가락시장', 8): '2818',\n",
       " ('문정', 8): '2819',\n",
       " ('장지', 8): '2820',\n",
       " ('복정', 8): '2821',\n",
       " ('산성', 8): '2822',\n",
       " ('남한산성입구(성남법원.검찰청)', 8): '2823',\n",
       " ('단대오거리', 8): '2824',\n",
       " ('신흥', 8): '2825',\n",
       " ('수진', 8): '2826',\n",
       " ('모란', 8): '2827',\n",
       " ('남위례', 8): '2828'}"
      ]
     },
     "execution_count": 33,
     "metadata": {},
     "output_type": "execute_result"
    }
   ],
   "source": [
    "code_dict"
   ]
  },
  {
   "attachments": {},
   "cell_type": "markdown",
   "metadata": {},
   "source": [
    "- station_dict 만들기(key값과 value값을 스위칭)"
   ]
  },
  {
   "cell_type": "code",
   "execution_count": 34,
   "metadata": {},
   "outputs": [],
   "source": [
    "station_dict={v:k for k,v in code_dict.items()}"
   ]
  },
  {
   "attachments": {},
   "cell_type": "markdown",
   "metadata": {},
   "source": [
    "- 데이터 입력 받기"
   ]
  },
  {
   "cell_type": "code",
   "execution_count": 36,
   "metadata": {},
   "outputs": [],
   "source": [
    "station_name=input('이용하실 역 명을 입력하세요: ')\n",
    "line=input('이용하시는 호선을 입력하세요: ')\n",
    "time=input('이용하실 시간을 입력하세요: ')\n",
    "in_out=input('승차/하차를 입력해주세요: ')\n",
    "week=input('평일/주말을 입력해주세요: ')"
   ]
  },
  {
   "attachments": {},
   "cell_type": "markdown",
   "metadata": {},
   "source": [
    "- 코드 딕셔너리를 이용한 code 입력"
   ]
  },
  {
   "cell_type": "code",
   "execution_count": 39,
   "metadata": {},
   "outputs": [],
   "source": [
    "data_code=int(code_dict[(station_name,int(line))])"
   ]
  },
  {
   "attachments": {},
   "cell_type": "markdown",
   "metadata": {},
   "source": [
    "- 인코딩"
   ]
  },
  {
   "attachments": {},
   "cell_type": "markdown",
   "metadata": {},
   "source": [
    "    -  피처 칼럼 추출"
   ]
  },
  {
   "cell_type": "code",
   "execution_count": 40,
   "metadata": {},
   "outputs": [],
   "source": [
    "matro_pd_new_use = metro_df[['code','in_out','weekend','passenger','time']]"
   ]
  },
  {
   "attachments": {},
   "cell_type": "markdown",
   "metadata": {},
   "source": [
    "    - OneHotEncoder로 인코딩(피처는 승/하차, 평일/주말, 시간)"
   ]
  },
  {
   "cell_type": "code",
   "execution_count": 41,
   "metadata": {},
   "outputs": [],
   "source": [
    "df_dummies=pd.get_dummies(matro_pd_new_use, columns = ['in_out','weekend','time'])"
   ]
  },
  {
   "attachments": {},
   "cell_type": "markdown",
   "metadata": {},
   "source": [
    "    - 역 별 개별 모델링을 위한 코드 별 데이터 추출"
   ]
  },
  {
   "cell_type": "code",
   "execution_count": 42,
   "metadata": {},
   "outputs": [],
   "source": [
    "groups = df_dummies.groupby(df_dummies.code)"
   ]
  },
  {
   "cell_type": "code",
   "execution_count": 43,
   "metadata": {},
   "outputs": [],
   "source": [
    "select_data=groups.get_group(data_code)"
   ]
  },
  {
   "cell_type": "code",
   "execution_count": 45,
   "metadata": {},
   "outputs": [
    {
     "data": {
      "text/html": [
       "<div>\n",
       "<style scoped>\n",
       "    .dataframe tbody tr th:only-of-type {\n",
       "        vertical-align: middle;\n",
       "    }\n",
       "\n",
       "    .dataframe tbody tr th {\n",
       "        vertical-align: top;\n",
       "    }\n",
       "\n",
       "    .dataframe thead th {\n",
       "        text-align: right;\n",
       "    }\n",
       "</style>\n",
       "<table border=\"1\" class=\"dataframe\">\n",
       "  <thead>\n",
       "    <tr style=\"text-align: right;\">\n",
       "      <th></th>\n",
       "      <th>code</th>\n",
       "      <th>passenger</th>\n",
       "      <th>in_out_승차</th>\n",
       "      <th>in_out_하차</th>\n",
       "      <th>weekend_주말</th>\n",
       "      <th>weekend_평일</th>\n",
       "      <th>time_5</th>\n",
       "      <th>time_6</th>\n",
       "      <th>time_7</th>\n",
       "      <th>time_8</th>\n",
       "      <th>...</th>\n",
       "      <th>time_14</th>\n",
       "      <th>time_15</th>\n",
       "      <th>time_16</th>\n",
       "      <th>time_17</th>\n",
       "      <th>time_18</th>\n",
       "      <th>time_19</th>\n",
       "      <th>time_20</th>\n",
       "      <th>time_21</th>\n",
       "      <th>time_22</th>\n",
       "      <th>time_23</th>\n",
       "    </tr>\n",
       "  </thead>\n",
       "  <tbody>\n",
       "    <tr>\n",
       "      <th>798</th>\n",
       "      <td>212</td>\n",
       "      <td>205.0</td>\n",
       "      <td>1</td>\n",
       "      <td>0</td>\n",
       "      <td>1</td>\n",
       "      <td>0</td>\n",
       "      <td>1</td>\n",
       "      <td>0</td>\n",
       "      <td>0</td>\n",
       "      <td>0</td>\n",
       "      <td>...</td>\n",
       "      <td>0</td>\n",
       "      <td>0</td>\n",
       "      <td>0</td>\n",
       "      <td>0</td>\n",
       "      <td>0</td>\n",
       "      <td>0</td>\n",
       "      <td>0</td>\n",
       "      <td>0</td>\n",
       "      <td>0</td>\n",
       "      <td>0</td>\n",
       "    </tr>\n",
       "    <tr>\n",
       "      <th>799</th>\n",
       "      <td>212</td>\n",
       "      <td>251.0</td>\n",
       "      <td>1</td>\n",
       "      <td>0</td>\n",
       "      <td>1</td>\n",
       "      <td>0</td>\n",
       "      <td>0</td>\n",
       "      <td>1</td>\n",
       "      <td>0</td>\n",
       "      <td>0</td>\n",
       "      <td>...</td>\n",
       "      <td>0</td>\n",
       "      <td>0</td>\n",
       "      <td>0</td>\n",
       "      <td>0</td>\n",
       "      <td>0</td>\n",
       "      <td>0</td>\n",
       "      <td>0</td>\n",
       "      <td>0</td>\n",
       "      <td>0</td>\n",
       "      <td>0</td>\n",
       "    </tr>\n",
       "    <tr>\n",
       "      <th>800</th>\n",
       "      <td>212</td>\n",
       "      <td>362.0</td>\n",
       "      <td>1</td>\n",
       "      <td>0</td>\n",
       "      <td>1</td>\n",
       "      <td>0</td>\n",
       "      <td>0</td>\n",
       "      <td>0</td>\n",
       "      <td>1</td>\n",
       "      <td>0</td>\n",
       "      <td>...</td>\n",
       "      <td>0</td>\n",
       "      <td>0</td>\n",
       "      <td>0</td>\n",
       "      <td>0</td>\n",
       "      <td>0</td>\n",
       "      <td>0</td>\n",
       "      <td>0</td>\n",
       "      <td>0</td>\n",
       "      <td>0</td>\n",
       "      <td>0</td>\n",
       "    </tr>\n",
       "    <tr>\n",
       "      <th>801</th>\n",
       "      <td>212</td>\n",
       "      <td>578.0</td>\n",
       "      <td>1</td>\n",
       "      <td>0</td>\n",
       "      <td>1</td>\n",
       "      <td>0</td>\n",
       "      <td>0</td>\n",
       "      <td>0</td>\n",
       "      <td>0</td>\n",
       "      <td>1</td>\n",
       "      <td>...</td>\n",
       "      <td>0</td>\n",
       "      <td>0</td>\n",
       "      <td>0</td>\n",
       "      <td>0</td>\n",
       "      <td>0</td>\n",
       "      <td>0</td>\n",
       "      <td>0</td>\n",
       "      <td>0</td>\n",
       "      <td>0</td>\n",
       "      <td>0</td>\n",
       "    </tr>\n",
       "    <tr>\n",
       "      <th>802</th>\n",
       "      <td>212</td>\n",
       "      <td>805.0</td>\n",
       "      <td>1</td>\n",
       "      <td>0</td>\n",
       "      <td>1</td>\n",
       "      <td>0</td>\n",
       "      <td>0</td>\n",
       "      <td>0</td>\n",
       "      <td>0</td>\n",
       "      <td>0</td>\n",
       "      <td>...</td>\n",
       "      <td>0</td>\n",
       "      <td>0</td>\n",
       "      <td>0</td>\n",
       "      <td>0</td>\n",
       "      <td>0</td>\n",
       "      <td>0</td>\n",
       "      <td>0</td>\n",
       "      <td>0</td>\n",
       "      <td>0</td>\n",
       "      <td>0</td>\n",
       "    </tr>\n",
       "  </tbody>\n",
       "</table>\n",
       "<p>5 rows × 25 columns</p>\n",
       "</div>"
      ],
      "text/plain": [
       "    code  passenger  in_out_승차  in_out_하차  weekend_주말  weekend_평일  time_5  \\\n",
       "798  212      205.0          1          0           1           0       1   \n",
       "799  212      251.0          1          0           1           0       0   \n",
       "800  212      362.0          1          0           1           0       0   \n",
       "801  212      578.0          1          0           1           0       0   \n",
       "802  212      805.0          1          0           1           0       0   \n",
       "\n",
       "     time_6  time_7  time_8  ...  time_14  time_15  time_16  time_17  time_18  \\\n",
       "798       0       0       0  ...        0        0        0        0        0   \n",
       "799       1       0       0  ...        0        0        0        0        0   \n",
       "800       0       1       0  ...        0        0        0        0        0   \n",
       "801       0       0       1  ...        0        0        0        0        0   \n",
       "802       0       0       0  ...        0        0        0        0        0   \n",
       "\n",
       "     time_19  time_20  time_21  time_22  time_23  \n",
       "798        0        0        0        0        0  \n",
       "799        0        0        0        0        0  \n",
       "800        0        0        0        0        0  \n",
       "801        0        0        0        0        0  \n",
       "802        0        0        0        0        0  \n",
       "\n",
       "[5 rows x 25 columns]"
      ]
     },
     "execution_count": 45,
     "metadata": {},
     "output_type": "execute_result"
    }
   ],
   "source": [
    "select_data.head(5)"
   ]
  },
  {
   "attachments": {},
   "cell_type": "markdown",
   "metadata": {},
   "source": [
    "# 머신러닝 모델링"
   ]
  },
  {
   "cell_type": "code",
   "execution_count": 50,
   "metadata": {},
   "outputs": [],
   "source": [
    "from sklearn.model_selection import train_test_split\n",
    "from sklearn.linear_model import LinearRegression\n",
    "from sklearn.tree import DecisionTreeRegressor\n",
    "from sklearn.ensemble import RandomForestRegressor\n",
    "from sklearn.svm import SVR\n",
    "from sklearn.metrics import mean_absolute_error\n",
    "from sklearn.metrics import mean_squared_error\n",
    "from sklearn.metrics import mean_squared_log_error\n",
    "import numpy as np"
   ]
  },
  {
   "attachments": {},
   "cell_type": "markdown",
   "metadata": {},
   "source": [
    "- 독립변수와 종속변수 설정"
   ]
  },
  {
   "cell_type": "code",
   "execution_count": 47,
   "metadata": {},
   "outputs": [],
   "source": [
    "x=select_data.iloc[:,2:]\n",
    "y=select_data['passenger']"
   ]
  },
  {
   "attachments": {},
   "cell_type": "markdown",
   "metadata": {},
   "source": [
    "- 데이터 분리"
   ]
  },
  {
   "cell_type": "code",
   "execution_count": 51,
   "metadata": {},
   "outputs": [],
   "source": [
    "x_train, x_test, y_train, y_test = train_test_split(x, y,test_size=0.2, train_size=0.8)"
   ]
  },
  {
   "attachments": {},
   "cell_type": "markdown",
   "metadata": {},
   "source": [
    "- 선형회귀분석"
   ]
  },
  {
   "cell_type": "code",
   "execution_count": 52,
   "metadata": {},
   "outputs": [
    {
     "data": {
      "text/html": [
       "<style>#sk-container-id-1 {color: black;background-color: white;}#sk-container-id-1 pre{padding: 0;}#sk-container-id-1 div.sk-toggleable {background-color: white;}#sk-container-id-1 label.sk-toggleable__label {cursor: pointer;display: block;width: 100%;margin-bottom: 0;padding: 0.3em;box-sizing: border-box;text-align: center;}#sk-container-id-1 label.sk-toggleable__label-arrow:before {content: \"▸\";float: left;margin-right: 0.25em;color: #696969;}#sk-container-id-1 label.sk-toggleable__label-arrow:hover:before {color: black;}#sk-container-id-1 div.sk-estimator:hover label.sk-toggleable__label-arrow:before {color: black;}#sk-container-id-1 div.sk-toggleable__content {max-height: 0;max-width: 0;overflow: hidden;text-align: left;background-color: #f0f8ff;}#sk-container-id-1 div.sk-toggleable__content pre {margin: 0.2em;color: black;border-radius: 0.25em;background-color: #f0f8ff;}#sk-container-id-1 input.sk-toggleable__control:checked~div.sk-toggleable__content {max-height: 200px;max-width: 100%;overflow: auto;}#sk-container-id-1 input.sk-toggleable__control:checked~label.sk-toggleable__label-arrow:before {content: \"▾\";}#sk-container-id-1 div.sk-estimator input.sk-toggleable__control:checked~label.sk-toggleable__label {background-color: #d4ebff;}#sk-container-id-1 div.sk-label input.sk-toggleable__control:checked~label.sk-toggleable__label {background-color: #d4ebff;}#sk-container-id-1 input.sk-hidden--visually {border: 0;clip: rect(1px 1px 1px 1px);clip: rect(1px, 1px, 1px, 1px);height: 1px;margin: -1px;overflow: hidden;padding: 0;position: absolute;width: 1px;}#sk-container-id-1 div.sk-estimator {font-family: monospace;background-color: #f0f8ff;border: 1px dotted black;border-radius: 0.25em;box-sizing: border-box;margin-bottom: 0.5em;}#sk-container-id-1 div.sk-estimator:hover {background-color: #d4ebff;}#sk-container-id-1 div.sk-parallel-item::after {content: \"\";width: 100%;border-bottom: 1px solid gray;flex-grow: 1;}#sk-container-id-1 div.sk-label:hover label.sk-toggleable__label {background-color: #d4ebff;}#sk-container-id-1 div.sk-serial::before {content: \"\";position: absolute;border-left: 1px solid gray;box-sizing: border-box;top: 0;bottom: 0;left: 50%;z-index: 0;}#sk-container-id-1 div.sk-serial {display: flex;flex-direction: column;align-items: center;background-color: white;padding-right: 0.2em;padding-left: 0.2em;position: relative;}#sk-container-id-1 div.sk-item {position: relative;z-index: 1;}#sk-container-id-1 div.sk-parallel {display: flex;align-items: stretch;justify-content: center;background-color: white;position: relative;}#sk-container-id-1 div.sk-item::before, #sk-container-id-1 div.sk-parallel-item::before {content: \"\";position: absolute;border-left: 1px solid gray;box-sizing: border-box;top: 0;bottom: 0;left: 50%;z-index: -1;}#sk-container-id-1 div.sk-parallel-item {display: flex;flex-direction: column;z-index: 1;position: relative;background-color: white;}#sk-container-id-1 div.sk-parallel-item:first-child::after {align-self: flex-end;width: 50%;}#sk-container-id-1 div.sk-parallel-item:last-child::after {align-self: flex-start;width: 50%;}#sk-container-id-1 div.sk-parallel-item:only-child::after {width: 0;}#sk-container-id-1 div.sk-dashed-wrapped {border: 1px dashed gray;margin: 0 0.4em 0.5em 0.4em;box-sizing: border-box;padding-bottom: 0.4em;background-color: white;}#sk-container-id-1 div.sk-label label {font-family: monospace;font-weight: bold;display: inline-block;line-height: 1.2em;}#sk-container-id-1 div.sk-label-container {text-align: center;}#sk-container-id-1 div.sk-container {/* jupyter's `normalize.less` sets `[hidden] { display: none; }` but bootstrap.min.css set `[hidden] { display: none !important; }` so we also need the `!important` here to be able to override the default hidden behavior on the sphinx rendered scikit-learn.org. See: https://github.com/scikit-learn/scikit-learn/issues/21755 */display: inline-block !important;position: relative;}#sk-container-id-1 div.sk-text-repr-fallback {display: none;}</style><div id=\"sk-container-id-1\" class=\"sk-top-container\"><div class=\"sk-text-repr-fallback\"><pre>LinearRegression()</pre><b>In a Jupyter environment, please rerun this cell to show the HTML representation or trust the notebook. <br />On GitHub, the HTML representation is unable to render, please try loading this page with nbviewer.org.</b></div><div class=\"sk-container\" hidden><div class=\"sk-item\"><div class=\"sk-estimator sk-toggleable\"><input class=\"sk-toggleable__control sk-hidden--visually\" id=\"sk-estimator-id-1\" type=\"checkbox\" checked><label for=\"sk-estimator-id-1\" class=\"sk-toggleable__label sk-toggleable__label-arrow\">LinearRegression</label><div class=\"sk-toggleable__content\"><pre>LinearRegression()</pre></div></div></div></div></div>"
      ],
      "text/plain": [
       "LinearRegression()"
      ]
     },
     "execution_count": 52,
     "metadata": {},
     "output_type": "execute_result"
    }
   ],
   "source": [
    "metro_modeling = LinearRegression()\n",
    "metro_modeling.fit(x_train, y_train)"
   ]
  },
  {
   "cell_type": "code",
   "execution_count": 53,
   "metadata": {},
   "outputs": [],
   "source": [
    "y_predict = metro_modeling.predict(x_test)"
   ]
  },
  {
   "cell_type": "code",
   "execution_count": 54,
   "metadata": {},
   "outputs": [],
   "source": [
    "y_train_predict = metro_modeling.predict(x_train)"
   ]
  },
  {
   "attachments": {},
   "cell_type": "markdown",
   "metadata": {},
   "source": [
    "    - 선형회귀분석의 트레이닝 데이터의 RMSE"
   ]
  },
  {
   "cell_type": "code",
   "execution_count": 58,
   "metadata": {},
   "outputs": [],
   "source": [
    "LR_train_RMSE=np.sqrt(mean_squared_error(y_train, y_train_predict))"
   ]
  },
  {
   "attachments": {},
   "cell_type": "markdown",
   "metadata": {},
   "source": [
    "    - 선형회귀분석의 테스트 데이터의 RMSE"
   ]
  },
  {
   "cell_type": "code",
   "execution_count": 60,
   "metadata": {},
   "outputs": [],
   "source": [
    "LR_test_RMSE=np.sqrt(mean_squared_error(y_test, y_predict))"
   ]
  },
  {
   "attachments": {},
   "cell_type": "markdown",
   "metadata": {},
   "source": [
    "    - 선형회귀분석의 테스트 데이터의 RMSLE"
   ]
  },
  {
   "cell_type": "code",
   "execution_count": 61,
   "metadata": {},
   "outputs": [],
   "source": [
    "LR_test_RMSLE=np.sqrt(mean_squared_log_error(y_test, y_predict))"
   ]
  },
  {
   "attachments": {},
   "cell_type": "markdown",
   "metadata": {},
   "source": [
    "- 의사결정나무"
   ]
  },
  {
   "cell_type": "code",
   "execution_count": 62,
   "metadata": {},
   "outputs": [],
   "source": [
    "metro_tree_moedel = DecisionTreeRegressor()\n",
    "metro_tree_moedel.fit(x_train, y_train)\n",
    "y_tree_predict = metro_tree_moedel.predict(x_test)"
   ]
  },
  {
   "cell_type": "code",
   "execution_count": 63,
   "metadata": {},
   "outputs": [],
   "source": [
    "y_train_tree_predict = metro_tree_moedel.predict(x_train)"
   ]
  },
  {
   "attachments": {},
   "cell_type": "markdown",
   "metadata": {},
   "source": [
    "    -의사결정나무의 트레이닝 데이터의 RMSE"
   ]
  },
  {
   "cell_type": "code",
   "execution_count": 64,
   "metadata": {},
   "outputs": [],
   "source": [
    "tree_train_RMSE=np.sqrt(mean_squared_error(y_train, y_train_tree_predict))"
   ]
  },
  {
   "attachments": {},
   "cell_type": "markdown",
   "metadata": {},
   "source": [
    "    - 의사결정나무의 테스트 데이터의 RMSE"
   ]
  },
  {
   "cell_type": "code",
   "execution_count": 65,
   "metadata": {},
   "outputs": [],
   "source": [
    "tree_test_RMSE=np.sqrt(mean_squared_error(y_test, y_tree_predict))"
   ]
  },
  {
   "attachments": {},
   "cell_type": "markdown",
   "metadata": {},
   "source": [
    "    - 의사결정나무의 테스트 데이터의 RMSLE"
   ]
  },
  {
   "cell_type": "code",
   "execution_count": 66,
   "metadata": {},
   "outputs": [],
   "source": [
    "tree_test_RMSLE=np.sqrt(mean_squared_log_error(y_test, y_tree_predict))"
   ]
  },
  {
   "attachments": {},
   "cell_type": "markdown",
   "metadata": {},
   "source": [
    "- 랜덤포레스트"
   ]
  },
  {
   "cell_type": "code",
   "execution_count": 67,
   "metadata": {},
   "outputs": [],
   "source": [
    "random_F_model = RandomForestRegressor()\n",
    "random_F_model.fit(x_train, y_train)\n",
    "metro_random_F_predicted = random_F_model.predict(x_test)"
   ]
  },
  {
   "cell_type": "code",
   "execution_count": 68,
   "metadata": {},
   "outputs": [],
   "source": [
    "metro_random_F_train_predicted = random_F_model.predict(x_train)"
   ]
  },
  {
   "attachments": {},
   "cell_type": "markdown",
   "metadata": {},
   "source": [
    "    -랜덤포레스트의 트레이닝 데이터의 RMSE"
   ]
  },
  {
   "cell_type": "code",
   "execution_count": 69,
   "metadata": {},
   "outputs": [],
   "source": [
    "RF_train_RMSE=np.sqrt(mean_squared_error(y_train, metro_random_F_train_predicted))"
   ]
  },
  {
   "attachments": {},
   "cell_type": "markdown",
   "metadata": {},
   "source": [
    "    - 랜덤포레스트의 테스트 데이터의 RMSE"
   ]
  },
  {
   "cell_type": "code",
   "execution_count": 70,
   "metadata": {},
   "outputs": [],
   "source": [
    "RF_test_RMSE=np.sqrt(mean_squared_error(y_test, metro_random_F_predicted))"
   ]
  },
  {
   "attachments": {},
   "cell_type": "markdown",
   "metadata": {},
   "source": [
    "    - 랜덤포레스트의 테스트 데이터의 RMSLE"
   ]
  },
  {
   "cell_type": "code",
   "execution_count": 71,
   "metadata": {},
   "outputs": [],
   "source": [
    "RF_test_RMSLE=np.sqrt(mean_squared_log_error(y_test, metro_random_F_predicted))"
   ]
  },
  {
   "attachments": {},
   "cell_type": "markdown",
   "metadata": {},
   "source": [
    "- SVR(Support Vector Regression)"
   ]
  },
  {
   "cell_type": "code",
   "execution_count": 72,
   "metadata": {},
   "outputs": [],
   "source": [
    "svr_model=SVR(C=40, kernel='poly',degree=80)\n",
    "svr_model.fit(x_train, y_train)\n",
    "svr_predicted = svr_model.predict(x_test)"
   ]
  },
  {
   "cell_type": "code",
   "execution_count": 74,
   "metadata": {},
   "outputs": [],
   "source": [
    "svr_train_predicted = svr_model.predict(x_train)"
   ]
  },
  {
   "attachments": {},
   "cell_type": "markdown",
   "metadata": {},
   "source": [
    "    - SVR의 트레이닝 데이터의 RMSE"
   ]
  },
  {
   "cell_type": "code",
   "execution_count": 75,
   "metadata": {},
   "outputs": [],
   "source": [
    "SVR_train_RMSE=np.sqrt(mean_squared_error(y_train, svr_train_predicted))"
   ]
  },
  {
   "attachments": {},
   "cell_type": "markdown",
   "metadata": {},
   "source": [
    "    - SVR의 테스트 데이터의 RMSE"
   ]
  },
  {
   "cell_type": "code",
   "execution_count": 76,
   "metadata": {},
   "outputs": [],
   "source": [
    "SVR_test_RMSE=np.sqrt(mean_squared_error(y_test, svr_predicted))"
   ]
  },
  {
   "attachments": {},
   "cell_type": "markdown",
   "metadata": {},
   "source": [
    "    - SVR의 테스트 데이터의 RMSLE"
   ]
  },
  {
   "cell_type": "code",
   "execution_count": 77,
   "metadata": {},
   "outputs": [],
   "source": [
    "SVR_test_RMSLE=np.sqrt(mean_squared_log_error(y_test, svr_predicted))"
   ]
  },
  {
   "attachments": {},
   "cell_type": "markdown",
   "metadata": {},
   "source": [
    "- 결과값 출력"
   ]
  },
  {
   "attachments": {},
   "cell_type": "markdown",
   "metadata": {},
   "source": [
    "    - 원하는 값을 예측하기 위한 x데이터 입력"
   ]
  },
  {
   "cell_type": "code",
   "execution_count": 90,
   "metadata": {},
   "outputs": [],
   "source": [
    "answer=pd.DataFrame([0,0,0,0,0,0,0,0,0,0,0,0,0,0,0,0,0,0,0,0,0,0,0])"
   ]
  },
  {
   "cell_type": "code",
   "execution_count": 91,
   "metadata": {},
   "outputs": [],
   "source": [
    "answer=answer.transpose()"
   ]
  },
  {
   "cell_type": "code",
   "execution_count": 92,
   "metadata": {},
   "outputs": [],
   "source": [
    "answer.columns=['in_out_승차','in_out_하차','weekend_주말','weekend_평일','time_5','time_6','time_7','time_8','time_9','time_10','time_11','time_12','time_13','time_14','time_15','time_16','time_17','time_18','time_19','time_20','time_21','time_22','time_23']"
   ]
  },
  {
   "cell_type": "code",
   "execution_count": 93,
   "metadata": {},
   "outputs": [
    {
     "data": {
      "text/html": [
       "<div>\n",
       "<style scoped>\n",
       "    .dataframe tbody tr th:only-of-type {\n",
       "        vertical-align: middle;\n",
       "    }\n",
       "\n",
       "    .dataframe tbody tr th {\n",
       "        vertical-align: top;\n",
       "    }\n",
       "\n",
       "    .dataframe thead th {\n",
       "        text-align: right;\n",
       "    }\n",
       "</style>\n",
       "<table border=\"1\" class=\"dataframe\">\n",
       "  <thead>\n",
       "    <tr style=\"text-align: right;\">\n",
       "      <th></th>\n",
       "      <th>in_out_승차</th>\n",
       "      <th>in_out_하차</th>\n",
       "      <th>weekend_주말</th>\n",
       "      <th>weekend_평일</th>\n",
       "      <th>time_5</th>\n",
       "      <th>time_6</th>\n",
       "      <th>time_7</th>\n",
       "      <th>time_8</th>\n",
       "      <th>time_9</th>\n",
       "      <th>time_10</th>\n",
       "      <th>...</th>\n",
       "      <th>time_14</th>\n",
       "      <th>time_15</th>\n",
       "      <th>time_16</th>\n",
       "      <th>time_17</th>\n",
       "      <th>time_18</th>\n",
       "      <th>time_19</th>\n",
       "      <th>time_20</th>\n",
       "      <th>time_21</th>\n",
       "      <th>time_22</th>\n",
       "      <th>time_23</th>\n",
       "    </tr>\n",
       "  </thead>\n",
       "  <tbody>\n",
       "    <tr>\n",
       "      <th>0</th>\n",
       "      <td>0</td>\n",
       "      <td>0</td>\n",
       "      <td>0</td>\n",
       "      <td>0</td>\n",
       "      <td>0</td>\n",
       "      <td>0</td>\n",
       "      <td>0</td>\n",
       "      <td>0</td>\n",
       "      <td>0</td>\n",
       "      <td>0</td>\n",
       "      <td>...</td>\n",
       "      <td>0</td>\n",
       "      <td>0</td>\n",
       "      <td>0</td>\n",
       "      <td>0</td>\n",
       "      <td>0</td>\n",
       "      <td>0</td>\n",
       "      <td>0</td>\n",
       "      <td>0</td>\n",
       "      <td>0</td>\n",
       "      <td>0</td>\n",
       "    </tr>\n",
       "  </tbody>\n",
       "</table>\n",
       "<p>1 rows × 23 columns</p>\n",
       "</div>"
      ],
      "text/plain": [
       "   in_out_승차  in_out_하차  weekend_주말  weekend_평일  time_5  time_6  time_7  \\\n",
       "0          0          0           0           0       0       0       0   \n",
       "\n",
       "   time_8  time_9  time_10  ...  time_14  time_15  time_16  time_17  time_18  \\\n",
       "0       0       0        0  ...        0        0        0        0        0   \n",
       "\n",
       "   time_19  time_20  time_21  time_22  time_23  \n",
       "0        0        0        0        0        0  \n",
       "\n",
       "[1 rows x 23 columns]"
      ]
     },
     "execution_count": 93,
     "metadata": {},
     "output_type": "execute_result"
    }
   ],
   "source": [
    "answer"
   ]
  },
  {
   "attachments": {},
   "cell_type": "markdown",
   "metadata": {},
   "source": [
    "    -조건 값 추가"
   ]
  },
  {
   "cell_type": "code",
   "execution_count": 96,
   "metadata": {},
   "outputs": [],
   "source": [
    "if week=='평일':\n",
    "    answer['weekend_평일']=1\n",
    "elif week=='주말':\n",
    "    answer['weekend_주말']=1"
   ]
  },
  {
   "cell_type": "code",
   "execution_count": 97,
   "metadata": {},
   "outputs": [],
   "source": [
    "if in_out=='승차':\n",
    "    answer['in_out_승차']=1\n",
    "elif in_out=='하차':\n",
    "    answer['in_out_하차']=1"
   ]
  },
  {
   "cell_type": "code",
   "execution_count": 98,
   "metadata": {},
   "outputs": [],
   "source": [
    "answer['time_'+str(time)]=1"
   ]
  },
  {
   "attachments": {},
   "cell_type": "markdown",
   "metadata": {},
   "source": [
    "    -의사결정나무와 랜덤포레스트의 값의 평균을 계산"
   ]
  },
  {
   "cell_type": "code",
   "execution_count": 101,
   "metadata": {},
   "outputs": [],
   "source": [
    "num_of_cus=round((random_F_model.predict(answer)[0]+round(metro_tree_moedel.predict(answer)[0]))/2)"
   ]
  },
  {
   "attachments": {},
   "cell_type": "markdown",
   "metadata": {},
   "source": [
    "# 최종 결과 도출"
   ]
  },
  {
   "cell_type": "code",
   "execution_count": 104,
   "metadata": {},
   "outputs": [
    {
     "name": "stdout",
     "output_type": "stream",
     "text": [
      "2호선 건대입구역 8시 평일 하차 이용객 수는 2541명 입니다\n"
     ]
    }
   ],
   "source": [
    "print(f'{line}호선 {station_name}역 {time}시 {week} {in_out} 이용객 수는 {num_of_cus}명 입니다')"
   ]
  },
  {
   "attachments": {},
   "cell_type": "markdown",
   "metadata": {},
   "source": [
    "- 최종 결과의 RMSLE값"
   ]
  },
  {
   "cell_type": "code",
   "execution_count": 106,
   "metadata": {},
   "outputs": [
    {
     "data": {
      "text/plain": [
       "0.25766731400529985"
      ]
     },
     "execution_count": 106,
     "metadata": {},
     "output_type": "execute_result"
    }
   ],
   "source": [
    "(tree_test_RMSLE+RF_test_RMSLE)/2"
   ]
  },
  {
   "attachments": {},
   "cell_type": "markdown",
   "metadata": {},
   "source": [
    "# 최종결과의 피처 중요도 분석"
   ]
  },
  {
   "cell_type": "code",
   "execution_count": 109,
   "metadata": {},
   "outputs": [
    {
     "name": "stderr",
     "output_type": "stream",
     "text": [
      "C:\\Users\\Ssoony\\AppData\\Local\\Temp\\ipykernel_23792\\1907488815.py:5: MatplotlibDeprecationWarning: The get_fontconfig_fonts function was deprecated in Matplotlib 3.5 and will be removed two minor releases later.\n",
      "  fm.get_fontconfig_fonts()\n"
     ]
    }
   ],
   "source": [
    "import matplotlib\n",
    "import matplotlib.font_manager as fm\n",
    "import matplotlib.pyplot as plt\n",
    "import seaborn as sns\n",
    "fm.get_fontconfig_fonts()\n",
    "font_location = 'C:/Windows/Fonts/batang.ttc'\n",
    "font_name = fm.FontProperties(fname=font_location).get_name()\n",
    "matplotlib.rc('font', family=font_name)"
   ]
  },
  {
   "attachments": {},
   "cell_type": "markdown",
   "metadata": {},
   "source": [
    "- 의사결정나무모델의 피처 중요도 평가"
   ]
  },
  {
   "cell_type": "code",
   "execution_count": 170,
   "metadata": {},
   "outputs": [],
   "source": [
    "feature_series1=pd.Series(data=metro_tree_moedel.feature_importances_, index=x_train.columns)"
   ]
  },
  {
   "cell_type": "code",
   "execution_count": 172,
   "metadata": {},
   "outputs": [],
   "source": [
    "feature_series1=feature_series1.sort_values(ascending=False)"
   ]
  },
  {
   "cell_type": "code",
   "execution_count": 193,
   "metadata": {},
   "outputs": [
    {
     "data": {
      "text/plain": [
       "Text(0.5, 1.0, '의사결정나무의 피처 중요도')"
      ]
     },
     "execution_count": 193,
     "metadata": {},
     "output_type": "execute_result"
    },
    {
     "data": {
      "image/png": "[encoded data removed]",
      "text/plain": [
       "<Figure size 640x480 with 1 Axes>"
      ]
     },
     "metadata": {},
     "output_type": "display_data"
    }
   ],
   "source": [
    "sns.barplot(x= feature_series1, y=feature_series1.index)\n",
    "plt.title('의사결정나무의 피처 중요도')"
   ]
  },
  {
   "attachments": {},
   "cell_type": "markdown",
   "metadata": {},
   "source": [
    "- 랜덤포레스트의 피처 중요도 평가"
   ]
  },
  {
   "cell_type": "code",
   "execution_count": 177,
   "metadata": {},
   "outputs": [],
   "source": [
    "feature_series2=pd.Series(data=random_F_model.feature_importances_, index=x_train.columns)"
   ]
  },
  {
   "cell_type": "code",
   "execution_count": 178,
   "metadata": {},
   "outputs": [],
   "source": [
    "feature_series2 = feature_series2.sort_values(ascending=False)"
   ]
  },
  {
   "cell_type": "code",
   "execution_count": 194,
   "metadata": {},
   "outputs": [
    {
     "data": {
      "text/plain": [
       "Text(0.5, 1.0, '랜덤포레스트의 피처 중요도')"
      ]
     },
     "execution_count": 194,
     "metadata": {},
     "output_type": "execute_result"
    },
    {
     "data": {
      "image/png": "[encoded data removed]",
      "text/plain": [
       "<Figure size 640x480 with 1 Axes>"
      ]
     },
     "metadata": {},
     "output_type": "display_data"
    }
   ],
   "source": [
    "sns.barplot(x= feature_series2, y=feature_series2.index)\n",
    "plt.title('랜덤포레스트의 피처 중요도')"
   ]
  }
 ],
 "metadata": {
  "kernelspec": {
   "display_name": "ds_study",
   "language": "python",
   "name": "python3"
  },
  "language_info": {
   "codemirror_mode": {
    "name": "ipython",
    "version": 3
   },
   "file_extension": ".py",
   "mimetype": "text/x-python",
   "name": "python",
   "nbconvert_exporter": "python",
   "pygments_lexer": "ipython3",
   "version": "3.8.15"
  },
  "orig_nbformat": 4,
  "vscode": {
   "interpreter": {
    "hash": "aceed0165250393bc6d3372b6222b9c0e82e6c885f449d3111c6d29b3e13c33a"
   }
  }
 },
 "nbformat": 4,
 "nbformat_minor": 2
}
